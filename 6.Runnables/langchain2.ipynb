{
 "cells": [
  {
   "cell_type": "code",
   "execution_count": 3,
   "id": "a739e9bc",
   "metadata": {},
   "outputs": [],
   "source": [
    "from abc import ABC, abstractmethod"
   ]
  },
  {
   "cell_type": "code",
   "execution_count": 5,
   "id": "76584a41",
   "metadata": {},
   "outputs": [],
   "source": [
    "class Runnable(ABC):\n",
    "    @abstractmethod\n",
    "    def invoke(input_data):\n",
    "        \"\"\"\n",
    "        This method should be implemented by subclasses to define how the runnable processes input data.\n",
    "        \"\"\"\n",
    "        pass"
   ]
  },
  {
   "cell_type": "code",
   "execution_count": 6,
   "id": "898a5583",
   "metadata": {},
   "outputs": [],
   "source": [
    "import random\n",
    "class fakeLLM(Runnable):\n",
    "    def __init__(self):\n",
    "        print('LLM initialized')\n",
    "    #mandatory method from Runnable class\n",
    "    def invoke(self, prompt):\n",
    "        \n",
    "        response_list = [\n",
    "            'Delhi is the capital of India.',\n",
    "            'IPL is a popular cricket league.',\n",
    "            'AI stand for Artificial Intelligence.',\n",
    "        ]\n",
    "        \n",
    "        return{'response': random.choice(response_list)}\n",
    "    \n",
    "    def predict(self, prompt):\n",
    "\n",
    "        response_list = [\n",
    "            'Delhi is the capital of India.',\n",
    "            'IPL is a popular cricket league.',\n",
    "            'AI stand for Artificial Intelligence.',\n",
    "        ]\n",
    "        \n",
    "        return{'response': random.choice(response_list)}"
   ]
  },
  {
   "cell_type": "code",
   "execution_count": 7,
   "id": "340ae6df",
   "metadata": {},
   "outputs": [],
   "source": [
    "class fakePromptTemplate(Runnable):\n",
    "    def __init__(self, template, input_variables):\n",
    "        self.template = template\n",
    "        self.input_variables = input_variables\n",
    "    \n",
    "    def invoke(self, input_dict):\n",
    "        for var in self.input_variables:\n",
    "            if var not in input_dict:\n",
    "                raise ValueError(f\"Missing input variable: {var}\")\n",
    "        # check for extra variables\n",
    "        for key in input_dict:\n",
    "            if key not in self.input_variables:\n",
    "                raise ValueError(f\"Unexpected input variable: {key}\")\n",
    "            \n",
    "        return self.template.format(**input_dict)\n",
    "    \n",
    "    def format(self, input_dict):\n",
    "        # check for missing variables\n",
    "        for var in self.input_variables:\n",
    "            if var not in input_dict:\n",
    "                raise ValueError(f\"Missing input variable: {var}\")\n",
    "        # check for extra variables\n",
    "        for key in input_dict:\n",
    "            if key not in self.input_variables:\n",
    "                raise ValueError(f\"Unexpected input variable: {key}\")\n",
    "            \n",
    "        return self.template.format(**input_dict)"
   ]
  },
  {
   "cell_type": "code",
   "execution_count": 22,
   "id": "f14edd58",
   "metadata": {},
   "outputs": [],
   "source": [
    "class fakeOutputParser(Runnable):\n",
    "\n",
    "    def __init__(self):\n",
    "        print('Output parser initialized')\n",
    "        \n",
    "    def invoke(self, output):\n",
    "        if 'response' not in output:\n",
    "            raise ValueError(\"Output must contain 'response' key\")\n",
    "        return output['response']\n",
    "    \n",
    "    def parse(self, output):\n",
    "        if 'response' not in output:\n",
    "            raise ValueError(\"Output must contain 'response' key\")\n",
    "        return output['response']"
   ]
  },
  {
   "cell_type": "code",
   "execution_count": 17,
   "id": "2c7f1a35",
   "metadata": {},
   "outputs": [],
   "source": [
    "class RunnableConnector(Runnable):\n",
    "    def __init__(self, Runnable_list):\n",
    "        self.Runnable_list = Runnable_list\n",
    "\n",
    "    def invoke(self, input_data):\n",
    "        for runnable in self.Runnable_list:\n",
    "            if isinstance(runnable, Runnable):\n",
    "                input_data = runnable.invoke(input_data)\n",
    "            else:\n",
    "                raise TypeError(f\"Expected a Runnable instance, got {type(runnable)}\")\n",
    "        return input_data"
   ]
  },
  {
   "cell_type": "code",
   "execution_count": 18,
   "id": "cd3a13cb",
   "metadata": {},
   "outputs": [],
   "source": [
    "template = fakePromptTemplate(\n",
    "    template = \"Write a Poem about {topic}\",\n",
    "    input_variables = ['topic']\n",
    ")"
   ]
  },
  {
   "cell_type": "code",
   "execution_count": 19,
   "id": "19d6bc87",
   "metadata": {},
   "outputs": [
    {
     "name": "stdout",
     "output_type": "stream",
     "text": [
      "LLM initialized\n"
     ]
    }
   ],
   "source": [
    "llm = fakeLLM()"
   ]
  },
  {
   "cell_type": "code",
   "execution_count": 23,
   "id": "2edcf89e",
   "metadata": {},
   "outputs": [
    {
     "name": "stdout",
     "output_type": "stream",
     "text": [
      "Output parser initialized\n"
     ]
    }
   ],
   "source": [
    "parser = fakeOutputParser()"
   ]
  },
  {
   "cell_type": "code",
   "execution_count": 24,
   "id": "8c434b89",
   "metadata": {},
   "outputs": [],
   "source": [
    "chain = RunnableConnector([template, llm, parser])"
   ]
  },
  {
   "cell_type": "code",
   "execution_count": 25,
   "id": "828e7940",
   "metadata": {},
   "outputs": [
    {
     "data": {
      "text/plain": [
       "'IPL is a popular cricket league.'"
      ]
     },
     "execution_count": 25,
     "metadata": {},
     "output_type": "execute_result"
    }
   ],
   "source": [
    "chain.invoke({'topic': 'India'})"
   ]
  },
  {
   "cell_type": "code",
   "execution_count": 27,
   "id": "ed2e0d42",
   "metadata": {},
   "outputs": [],
   "source": [
    "template1 = fakePromptTemplate(\n",
    "    template = \"Write a joke about {topic}\",\n",
    "    input_variables = ['topic']\n",
    ")"
   ]
  },
  {
   "cell_type": "code",
   "execution_count": 28,
   "id": "8e03ab37",
   "metadata": {},
   "outputs": [],
   "source": [
    "template2 = fakePromptTemplate(\n",
    "    template = \"Write a summary about following joke {response}\",\n",
    "    input_variables = ['response']\n",
    ")"
   ]
  },
  {
   "cell_type": "code",
   "execution_count": 29,
   "id": "287e97bf",
   "metadata": {},
   "outputs": [
    {
     "name": "stdout",
     "output_type": "stream",
     "text": [
      "LLM initialized\n"
     ]
    }
   ],
   "source": [
    "llm = fakeLLM()"
   ]
  },
  {
   "cell_type": "code",
   "execution_count": 30,
   "id": "eafb0aa5",
   "metadata": {},
   "outputs": [
    {
     "name": "stdout",
     "output_type": "stream",
     "text": [
      "Output parser initialized\n"
     ]
    }
   ],
   "source": [
    "parser = fakeOutputParser()"
   ]
  },
  {
   "cell_type": "code",
   "execution_count": 35,
   "id": "ec8ae9e9",
   "metadata": {},
   "outputs": [],
   "source": [
    "chain1 = RunnableConnector([template1, llm])"
   ]
  },
  {
   "cell_type": "code",
   "execution_count": 36,
   "id": "cf72c340",
   "metadata": {},
   "outputs": [],
   "source": [
    "chain2 = RunnableConnector([template2, llm, parser])"
   ]
  },
  {
   "cell_type": "code",
   "execution_count": 37,
   "id": "fc25e8d7",
   "metadata": {},
   "outputs": [],
   "source": [
    "final_chain = RunnableConnector([chain1, chain2])"
   ]
  },
  {
   "cell_type": "code",
   "execution_count": 38,
   "id": "8fd11d28",
   "metadata": {},
   "outputs": [
    {
     "data": {
      "text/plain": [
       "'Delhi is the capital of India.'"
      ]
     },
     "execution_count": 38,
     "metadata": {},
     "output_type": "execute_result"
    }
   ],
   "source": [
    "final_chain.invoke({'topic': 'Cricket'})"
   ]
  },
  {
   "cell_type": "code",
   "execution_count": null,
   "id": "881552d8",
   "metadata": {},
   "outputs": [],
   "source": []
  }
 ],
 "metadata": {
  "kernelspec": {
   "display_name": "myenv",
   "language": "python",
   "name": "python3"
  },
  "language_info": {
   "codemirror_mode": {
    "name": "ipython",
    "version": 3
   },
   "file_extension": ".py",
   "mimetype": "text/x-python",
   "name": "python",
   "nbconvert_exporter": "python",
   "pygments_lexer": "ipython3",
   "version": "3.11.9"
  }
 },
 "nbformat": 4,
 "nbformat_minor": 5
}
