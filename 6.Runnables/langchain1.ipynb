{
 "cells": [
  {
   "cell_type": "code",
   "execution_count": 1,
   "id": "11f3d7a5",
   "metadata": {},
   "outputs": [],
   "source": [
    "import random\n",
    "class fakeLLM:\n",
    "    def __init__(self):\n",
    "        print('LLM initialized')\n",
    "    \n",
    "    def predict(self, prompt):\n",
    "\n",
    "        response_list = [\n",
    "            'Delhi is the capital of India.',\n",
    "            'IPL is a popular cricket league.',\n",
    "            'AI stand for Artificial Intelligence.',\n",
    "        ]\n",
    "        \n",
    "        return{'response': random.choice(response_list)}"
   ]
  },
  {
   "cell_type": "code",
   "execution_count": 2,
   "id": "4b722446",
   "metadata": {},
   "outputs": [
    {
     "name": "stdout",
     "output_type": "stream",
     "text": [
      "LLM initialized\n"
     ]
    }
   ],
   "source": [
    "llm = fakeLLM()"
   ]
  },
  {
   "cell_type": "code",
   "execution_count": 3,
   "id": "d882028a",
   "metadata": {},
   "outputs": [
    {
     "data": {
      "text/plain": [
       "{'response': 'Delhi is the capital of India.'}"
      ]
     },
     "execution_count": 3,
     "metadata": {},
     "output_type": "execute_result"
    }
   ],
   "source": [
    "llm.predict('What is the capital of India?')"
   ]
  },
  {
   "cell_type": "code",
   "execution_count": 4,
   "id": "223c8928",
   "metadata": {},
   "outputs": [],
   "source": [
    "class fakePromptTemplate:\n",
    "    def __init__(self, template, input_variables):\n",
    "        self.template = template\n",
    "        self.input_variables = input_variables\n",
    "    \n",
    "    def format(self, input_dict):\n",
    "        # check for missing variables\n",
    "        for var in self.input_variables:\n",
    "            if var not in input_dict:\n",
    "                raise ValueError(f\"Missing input variable: {var}\")\n",
    "        # check for extra variables\n",
    "        for key in input_dict:\n",
    "            if key not in self.input_variables:\n",
    "                raise ValueError(f\"Unexpected input variable: {key}\")\n",
    "            \n",
    "        return self.template.format(**input_dict)"
   ]
  },
  {
   "cell_type": "code",
   "execution_count": 5,
   "id": "afe7efb1",
   "metadata": {},
   "outputs": [],
   "source": [
    "template = fakePromptTemplate(\n",
    "    template = \"Write a Poem about {topic}\",\n",
    "    input_variables = ['topic']\n",
    ")"
   ]
  },
  {
   "cell_type": "code",
   "execution_count": 6,
   "id": "69e4c34b",
   "metadata": {},
   "outputs": [],
   "source": [
    "prompt = template.format({'topic':'India'})"
   ]
  },
  {
   "cell_type": "code",
   "execution_count": 7,
   "id": "2f826807",
   "metadata": {},
   "outputs": [
    {
     "data": {
      "text/plain": [
       "{'response': 'AI stand for Artificial Intelligence.'}"
      ]
     },
     "execution_count": 7,
     "metadata": {},
     "output_type": "execute_result"
    }
   ],
   "source": [
    "llm.predict(prompt)"
   ]
  },
  {
   "cell_type": "code",
   "execution_count": 8,
   "id": "0b4c2f96",
   "metadata": {},
   "outputs": [],
   "source": [
    "class fakeLLMChain:\n",
    "    def __init__(self, llm, prompt):\n",
    "        self.llm = llm\n",
    "        self.prompt = prompt\n",
    "    \n",
    "    def run(self, input_dict):\n",
    "        # format the prompt\n",
    "        formatted_prompt = self.prompt.format(input_dict)\n",
    "        # get the response from the LLM\n",
    "        response = self.llm.predict(formatted_prompt)\n",
    "        return response['response']\n",
    "    "
   ]
  },
  {
   "cell_type": "code",
   "execution_count": 9,
   "id": "f652c3e9",
   "metadata": {},
   "outputs": [],
   "source": [
    "template = fakePromptTemplate(\n",
    "    template = \"Write a Poem about {topic}\",\n",
    "    input_variables = ['topic']\n",
    ")"
   ]
  },
  {
   "cell_type": "code",
   "execution_count": 10,
   "id": "acfe5903",
   "metadata": {},
   "outputs": [
    {
     "name": "stdout",
     "output_type": "stream",
     "text": [
      "LLM initialized\n"
     ]
    }
   ],
   "source": [
    "llm = fakeLLM()"
   ]
  },
  {
   "cell_type": "code",
   "execution_count": 11,
   "id": "9a93bd5f",
   "metadata": {},
   "outputs": [],
   "source": [
    "chain = fakeLLMChain(llm, template)"
   ]
  },
  {
   "cell_type": "code",
   "execution_count": 12,
   "id": "18698c3e",
   "metadata": {},
   "outputs": [
    {
     "data": {
      "text/plain": [
       "'IPL is a popular cricket league.'"
      ]
     },
     "execution_count": 12,
     "metadata": {},
     "output_type": "execute_result"
    }
   ],
   "source": [
    "chain.run({'topic': 'India'})"
   ]
  }
 ],
 "metadata": {
  "kernelspec": {
   "display_name": "myenv",
   "language": "python",
   "name": "python3"
  },
  "language_info": {
   "codemirror_mode": {
    "name": "ipython",
    "version": 3
   },
   "file_extension": ".py",
   "mimetype": "text/x-python",
   "name": "python",
   "nbconvert_exporter": "python",
   "pygments_lexer": "ipython3",
   "version": "3.11.9"
  }
 },
 "nbformat": 4,
 "nbformat_minor": 5
}
