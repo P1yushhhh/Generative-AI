{
 "cells": [
  {
   "cell_type": "code",
   "execution_count": 5,
   "id": "d382afa7",
   "metadata": {},
   "outputs": [],
   "source": [
    "from langchain_huggingface import HuggingFaceEmbeddings\n",
    "from langchain_chroma import Chroma\n"
   ]
  },
  {
   "cell_type": "code",
   "execution_count": 6,
   "id": "b0c06daf",
   "metadata": {},
   "outputs": [],
   "source": [
    "from langchain.schema import Document\n",
    "\n",
    "# Create LangChain documents for IPL players\n",
    "\n",
    "doc1 = Document(\n",
    "        page_content=\"Virat Kohli is one of the most successful and consistent batsmen in IPL history. Known for his aggressive batting style and fitness, he has led the Royal Challengers Bangalore in multiple seasons.\",\n",
    "        metadata={\"team\": \"Royal Challengers Bangalore\"}\n",
    "    )\n",
    "doc2 = Document(\n",
    "        page_content=\"Rohit Sharma is the most successful captain in IPL history, leading Mumbai Indians to five titles. He's known for his calm demeanor and ability to play big innings under pressure.\",\n",
    "        metadata={\"team\": \"Mumbai Indians\"}\n",
    "    )\n",
    "doc3 = Document(\n",
    "        page_content=\"MS Dhoni, famously known as Captain Cool, has led Chennai Super Kings to multiple IPL titles. His finishing skills, wicketkeeping, and leadership are legendary.\",\n",
    "        metadata={\"team\": \"Chennai Super Kings\"}\n",
    "    )\n",
    "doc4 = Document(\n",
    "        page_content=\"Jasprit Bumrah is considered one of the best fast bowlers in T20 cricket. Playing for Mumbai Indians, he is known for his yorkers and death-over expertise.\",\n",
    "        metadata={\"team\": \"Mumbai Indians\"}\n",
    "    )\n",
    "doc5 = Document(\n",
    "        page_content=\"Ravindra Jadeja is a dynamic all-rounder who contributes with both bat and ball. Representing Chennai Super Kings, his quick fielding and match-winning performances make him a key player.\",\n",
    "        metadata={\"team\": \"Chennai Super Kings\"}\n",
    "    )\n"
   ]
  },
  {
   "cell_type": "code",
   "execution_count": 7,
   "id": "4e9cd3d9",
   "metadata": {},
   "outputs": [],
   "source": [
    "docs = [doc1, doc2, doc3, doc4, doc5]"
   ]
  },
  {
   "cell_type": "code",
   "execution_count": null,
   "id": "97606640",
   "metadata": {},
   "outputs": [],
   "source": [
    "Vector_Store = Chroma(\n",
    "    embedding_function = HuggingFaceEmbeddings(model_name='sentence-transformers/all-MiniLM-L6-v2'),\n",
    "    persist_directory = '9.VectorDatabse\\chroma_db',\n",
    "    collection_name = 'sample'\n",
    ")\n"
   ]
  },
  {
   "cell_type": "code",
   "execution_count": 9,
   "id": "b5bcfe58",
   "metadata": {},
   "outputs": [
    {
     "data": {
      "text/plain": [
       "['22913786-4dd1-45c7-a933-5431a7386a7e',\n",
       " '676a435c-687b-497e-9323-6baac75327c9',\n",
       " '4cea9c74-c09e-4f36-b695-4e1ecc81addf',\n",
       " '066e55b3-b97a-4978-8ec6-b62f18ee889b',\n",
       " '3b103084-7a13-45bd-8417-409ec2f45d42']"
      ]
     },
     "execution_count": 9,
     "metadata": {},
     "output_type": "execute_result"
    }
   ],
   "source": [
    "#add documents\n",
    "Vector_Store.add_documents(docs)"
   ]
  },
  {
   "cell_type": "code",
   "execution_count": 10,
   "id": "51e6ea1f",
   "metadata": {},
   "outputs": [
    {
     "data": {
      "text/plain": [
       "{'ids': ['22913786-4dd1-45c7-a933-5431a7386a7e',\n",
       "  '676a435c-687b-497e-9323-6baac75327c9',\n",
       "  '4cea9c74-c09e-4f36-b695-4e1ecc81addf',\n",
       "  '066e55b3-b97a-4978-8ec6-b62f18ee889b',\n",
       "  '3b103084-7a13-45bd-8417-409ec2f45d42'],\n",
       " 'embeddings': array([[ 0.00994726,  0.06914335, -0.05147116, ..., -0.03543343,\n",
       "          0.01284809,  0.01248291],\n",
       "        [ 0.00127747,  0.03129849, -0.02375384, ..., -0.00518364,\n",
       "         -0.03280614,  0.02737715],\n",
       "        [-0.10265912,  0.0265081 ,  0.02271502, ..., -0.03359751,\n",
       "         -0.07984938, -0.0150771 ],\n",
       "        [ 0.02123393, -0.02468546, -0.0449437 , ..., -0.10995812,\n",
       "          0.00572556,  0.09915379],\n",
       "        [ 0.01873976,  0.04382845, -0.04304254, ..., -0.07801623,\n",
       "         -0.07840687, -0.0030419 ]], shape=(5, 384)),\n",
       " 'documents': ['Virat Kohli is one of the most successful and consistent batsmen in IPL history. Known for his aggressive batting style and fitness, he has led the Royal Challengers Bangalore in multiple seasons.',\n",
       "  \"Rohit Sharma is the most successful captain in IPL history, leading Mumbai Indians to five titles. He's known for his calm demeanor and ability to play big innings under pressure.\",\n",
       "  'MS Dhoni, famously known as Captain Cool, has led Chennai Super Kings to multiple IPL titles. His finishing skills, wicketkeeping, and leadership are legendary.',\n",
       "  'Jasprit Bumrah is considered one of the best fast bowlers in T20 cricket. Playing for Mumbai Indians, he is known for his yorkers and death-over expertise.',\n",
       "  'Ravindra Jadeja is a dynamic all-rounder who contributes with both bat and ball. Representing Chennai Super Kings, his quick fielding and match-winning performances make him a key player.'],\n",
       " 'uris': None,\n",
       " 'included': ['embeddings', 'documents', 'metadatas'],\n",
       " 'data': None,\n",
       " 'metadatas': [{'team': 'Royal Challengers Bangalore'},\n",
       "  {'team': 'Mumbai Indians'},\n",
       "  {'team': 'Chennai Super Kings'},\n",
       "  {'team': 'Mumbai Indians'},\n",
       "  {'team': 'Chennai Super Kings'}]}"
      ]
     },
     "execution_count": 10,
     "metadata": {},
     "output_type": "execute_result"
    }
   ],
   "source": [
    "Vector_Store.get(include = ['embeddings', 'documents', 'metadatas'])"
   ]
  },
  {
   "cell_type": "code",
   "execution_count": 14,
   "id": "d6accf75",
   "metadata": {},
   "outputs": [
    {
     "data": {
      "text/plain": [
       "[Document(id='066e55b3-b97a-4978-8ec6-b62f18ee889b', metadata={'team': 'Mumbai Indians'}, page_content='Jasprit Bumrah is considered one of the best fast bowlers in T20 cricket. Playing for Mumbai Indians, he is known for his yorkers and death-over expertise.')]"
      ]
     },
     "execution_count": 14,
     "metadata": {},
     "output_type": "execute_result"
    }
   ],
   "source": [
    "Vector_Store.similarity_search(\n",
    "    query='Who among these are a bowler',\n",
    "    k=1\n",
    ")"
   ]
  },
  {
   "cell_type": "code",
   "execution_count": 18,
   "id": "14888de1",
   "metadata": {},
   "outputs": [
    {
     "data": {
      "text/plain": [
       "[(Document(id='066e55b3-b97a-4978-8ec6-b62f18ee889b', metadata={'team': 'Mumbai Indians'}, page_content='Jasprit Bumrah is considered one of the best fast bowlers in T20 cricket. Playing for Mumbai Indians, he is known for his yorkers and death-over expertise.'),\n",
       "  1.0476213693618774)]"
      ]
     },
     "execution_count": 18,
     "metadata": {},
     "output_type": "execute_result"
    }
   ],
   "source": [
    "Vector_Store.similarity_search_with_score(\n",
    "    query = 'who among these is a bowler',\n",
    "    k = 1\n",
    ")"
   ]
  },
  {
   "cell_type": "code",
   "execution_count": 19,
   "id": "8e252941",
   "metadata": {},
   "outputs": [
    {
     "data": {
      "text/plain": [
       "[(Document(id='4cea9c74-c09e-4f36-b695-4e1ecc81addf', metadata={'team': 'Chennai Super Kings'}, page_content='MS Dhoni, famously known as Captain Cool, has led Chennai Super Kings to multiple IPL titles. His finishing skills, wicketkeeping, and leadership are legendary.'),\n",
       "  1.8436006307601929),\n",
       " (Document(id='3b103084-7a13-45bd-8417-409ec2f45d42', metadata={'team': 'Chennai Super Kings'}, page_content='Ravindra Jadeja is a dynamic all-rounder who contributes with both bat and ball. Representing Chennai Super Kings, his quick fielding and match-winning performances make him a key player.'),\n",
       "  1.8909375667572021)]"
      ]
     },
     "execution_count": 19,
     "metadata": {},
     "output_type": "execute_result"
    }
   ],
   "source": [
    "Vector_Store.similarity_search_with_score(\n",
    "    query = '',\n",
    "    filter = {\"team\": \"Chennai Super Kings\"}\n",
    ")"
   ]
  },
  {
   "cell_type": "code",
   "execution_count": 21,
   "id": "c2dc0955",
   "metadata": {},
   "outputs": [],
   "source": [
    "update_document1 = Document(\n",
    "    page_content = 'Virat Kohli is one of the most successful and consistent batsmen in IPL history. Known for his aggressive batting style and fitness, he has led the Royal Challengers Bangalore in multiple seasons and also is the reason of their victory in 2025 breaking the curse of winless RCB',\n",
    "    metadata = {\"team\": \"Royal Challengers Bengaluru\"}\n",
    ")\n",
    "Vector_Store.update_document(document_id = '22913786-4dd1-45c7-a933-5431a7386a7e', document=update_document1)\n"
   ]
  },
  {
   "cell_type": "code",
   "execution_count": 22,
   "id": "e7e96410",
   "metadata": {},
   "outputs": [
    {
     "data": {
      "text/plain": [
       "{'ids': ['22913786-4dd1-45c7-a933-5431a7386a7e',\n",
       "  '676a435c-687b-497e-9323-6baac75327c9',\n",
       "  '4cea9c74-c09e-4f36-b695-4e1ecc81addf',\n",
       "  '066e55b3-b97a-4978-8ec6-b62f18ee889b',\n",
       "  '3b103084-7a13-45bd-8417-409ec2f45d42'],\n",
       " 'embeddings': array([[-0.01364081,  0.09672099, -0.04329927, ..., -0.06913742,\n",
       "          0.02355036,  0.00735519],\n",
       "        [ 0.00127747,  0.03129849, -0.02375384, ..., -0.00518364,\n",
       "         -0.03280614,  0.02737715],\n",
       "        [-0.10265912,  0.0265081 ,  0.02271502, ..., -0.03359751,\n",
       "         -0.07984938, -0.0150771 ],\n",
       "        [ 0.02123393, -0.02468546, -0.0449437 , ..., -0.10995812,\n",
       "          0.00572556,  0.09915379],\n",
       "        [ 0.01873976,  0.04382845, -0.04304254, ..., -0.07801623,\n",
       "         -0.07840687, -0.0030419 ]], shape=(5, 384)),\n",
       " 'documents': ['Virat Kohli is one of the most successful and consistent batsmen in IPL history. Known for his aggressive batting style and fitness, he has led the Royal Challengers Bangalore in multiple seasons and also is the reason of their victory in 2025 breaking the curse of winless RCB',\n",
       "  \"Rohit Sharma is the most successful captain in IPL history, leading Mumbai Indians to five titles. He's known for his calm demeanor and ability to play big innings under pressure.\",\n",
       "  'MS Dhoni, famously known as Captain Cool, has led Chennai Super Kings to multiple IPL titles. His finishing skills, wicketkeeping, and leadership are legendary.',\n",
       "  'Jasprit Bumrah is considered one of the best fast bowlers in T20 cricket. Playing for Mumbai Indians, he is known for his yorkers and death-over expertise.',\n",
       "  'Ravindra Jadeja is a dynamic all-rounder who contributes with both bat and ball. Representing Chennai Super Kings, his quick fielding and match-winning performances make him a key player.'],\n",
       " 'uris': None,\n",
       " 'included': ['embeddings', 'documents', 'metadatas'],\n",
       " 'data': None,\n",
       " 'metadatas': [{'team': 'Royal Challengers Bengaluru'},\n",
       "  {'team': 'Mumbai Indians'},\n",
       "  {'team': 'Chennai Super Kings'},\n",
       "  {'team': 'Mumbai Indians'},\n",
       "  {'team': 'Chennai Super Kings'}]}"
      ]
     },
     "execution_count": 22,
     "metadata": {},
     "output_type": "execute_result"
    }
   ],
   "source": [
    "Vector_Store.get(include=['embeddings', 'documents', 'metadatas'])"
   ]
  },
  {
   "cell_type": "code",
   "execution_count": 23,
   "id": "f10cef71",
   "metadata": {},
   "outputs": [],
   "source": [
    "Vector_Store.delete(ids='4cea9c74-c09e-4f36-b695-4e1ecc81addf')"
   ]
  },
  {
   "cell_type": "code",
   "execution_count": 24,
   "id": "4a4b7e04",
   "metadata": {},
   "outputs": [
    {
     "data": {
      "text/plain": [
       "{'ids': ['22913786-4dd1-45c7-a933-5431a7386a7e',\n",
       "  '676a435c-687b-497e-9323-6baac75327c9',\n",
       "  '066e55b3-b97a-4978-8ec6-b62f18ee889b',\n",
       "  '3b103084-7a13-45bd-8417-409ec2f45d42'],\n",
       " 'embeddings': array([[-0.01364081,  0.09672099, -0.04329927, ..., -0.06913742,\n",
       "          0.02355036,  0.00735519],\n",
       "        [ 0.00127747,  0.03129849, -0.02375384, ..., -0.00518364,\n",
       "         -0.03280614,  0.02737715],\n",
       "        [ 0.02123393, -0.02468546, -0.0449437 , ..., -0.10995812,\n",
       "          0.00572556,  0.09915379],\n",
       "        [ 0.01873976,  0.04382845, -0.04304254, ..., -0.07801623,\n",
       "         -0.07840687, -0.0030419 ]], shape=(4, 384)),\n",
       " 'documents': ['Virat Kohli is one of the most successful and consistent batsmen in IPL history. Known for his aggressive batting style and fitness, he has led the Royal Challengers Bangalore in multiple seasons and also is the reason of their victory in 2025 breaking the curse of winless RCB',\n",
       "  \"Rohit Sharma is the most successful captain in IPL history, leading Mumbai Indians to five titles. He's known for his calm demeanor and ability to play big innings under pressure.\",\n",
       "  'Jasprit Bumrah is considered one of the best fast bowlers in T20 cricket. Playing for Mumbai Indians, he is known for his yorkers and death-over expertise.',\n",
       "  'Ravindra Jadeja is a dynamic all-rounder who contributes with both bat and ball. Representing Chennai Super Kings, his quick fielding and match-winning performances make him a key player.'],\n",
       " 'uris': None,\n",
       " 'included': ['embeddings', 'documents', 'metadatas'],\n",
       " 'data': None,\n",
       " 'metadatas': [{'team': 'Royal Challengers Bengaluru'},\n",
       "  {'team': 'Mumbai Indians'},\n",
       "  {'team': 'Mumbai Indians'},\n",
       "  {'team': 'Chennai Super Kings'}]}"
      ]
     },
     "execution_count": 24,
     "metadata": {},
     "output_type": "execute_result"
    }
   ],
   "source": [
    "Vector_Store.get(include=['embeddings', 'documents', 'metadatas'])"
   ]
  },
  {
   "cell_type": "code",
   "execution_count": null,
   "id": "e1df9a73",
   "metadata": {},
   "outputs": [],
   "source": []
  }
 ],
 "metadata": {
  "kernelspec": {
   "display_name": "myenv",
   "language": "python",
   "name": "python3"
  },
  "language_info": {
   "codemirror_mode": {
    "name": "ipython",
    "version": 3
   },
   "file_extension": ".py",
   "mimetype": "text/x-python",
   "name": "python",
   "nbconvert_exporter": "python",
   "pygments_lexer": "ipython3",
   "version": "3.11.9"
  }
 },
 "nbformat": 4,
 "nbformat_minor": 5
}
