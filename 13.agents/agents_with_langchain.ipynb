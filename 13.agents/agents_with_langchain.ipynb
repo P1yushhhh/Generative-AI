{
 "cells": [
  {
   "cell_type": "code",
   "execution_count": 1,
   "id": "d09061f2",
   "metadata": {},
   "outputs": [],
   "source": [
    "from langchain_openai import ChatOpenAI\n",
    "from langchain_core.tools import Tool\n",
    "import requests"
   ]
  },
  {
   "cell_type": "code",
   "execution_count": 2,
   "id": "8e57ee45",
   "metadata": {},
   "outputs": [],
   "source": [
    "from langchain_community.tools import DuckDuckGoSearchRun\n",
    "\n",
    "search_tool = DuckDuckGoSearchRun()"
   ]
  },
  {
   "cell_type": "code",
   "execution_count": 3,
   "id": "641c6042",
   "metadata": {},
   "outputs": [],
   "source": [
    "llm = ChatOpenAI(model = 'gpt-4.1-nano-2025-04-14')"
   ]
  },
  {
   "cell_type": "code",
   "execution_count": 6,
   "id": "e08668bd",
   "metadata": {},
   "outputs": [],
   "source": [
    "from langchain.agents import create_react_agent, AgentExecutor\n",
    "from langchain import hub"
   ]
  },
  {
   "cell_type": "code",
   "execution_count": 7,
   "id": "158dcf8c",
   "metadata": {},
   "outputs": [
    {
     "name": "stderr",
     "output_type": "stream",
     "text": [
      "c:\\Users\\Pc\\Desktop\\Generative AI\\myenv\\Lib\\site-packages\\langsmith\\client.py:272: LangSmithMissingAPIKeyWarning: API key must be provided when using hosted LangSmith API\n",
      "  warnings.warn(\n"
     ]
    }
   ],
   "source": [
    "# Step 2: Pull the ReAct prompt from LangChain Hub\n",
    "prompt = hub.pull(\"hwchase17/react\")  # pulls the standard ReAct agent prompt"
   ]
  },
  {
   "cell_type": "code",
   "execution_count": null,
   "id": "17e818f2",
   "metadata": {},
   "outputs": [],
   "source": [
    "# Step 3: Create the ReAct agent manually with the pulled prompt\n",
    "agent = create_react_agent(\n",
    "    llm = llm, \n",
    "    tools= [search_tool], \n",
    "    prompt=prompt)"
   ]
  },
  {
   "cell_type": "code",
   "execution_count": 10,
   "id": "b0b91ac2",
   "metadata": {},
   "outputs": [],
   "source": [
    "# Step 4: Wrap it with AgentExecutor\n",
    "agent_executor = AgentExecutor(\n",
    "    agent=agent,\n",
    "    tools=[search_tool],\n",
    "    verbose=True\n",
    ")"
   ]
  },
  {
   "cell_type": "code",
   "execution_count": 13,
   "id": "2fe9d1b0",
   "metadata": {},
   "outputs": [
    {
     "name": "stdout",
     "output_type": "stream",
     "text": [
      "\n",
      "\n",
      "\u001b[1m> Entering new AgentExecutor chain...\u001b[0m\n",
      "\u001b[32;1m\u001b[1;3mQuestion: give a detailed preview for the current test matches between england and india happening in lords stadium  \n",
      "Thought: I should search for recent updates and details about the ongoing test match series between England and India at Lord's. I'll use DuckDuckGo to find recent news or score updates about the match.  \n",
      "Action: duckduckgo_search  \n",
      "Action Input: England vs India test match at Lord's 2023 latest updates  \u001b[0m"
     ]
    },
    {
     "name": "stderr",
     "output_type": "stream",
     "text": [
      "c:\\Users\\Pc\\Desktop\\Generative AI\\myenv\\Lib\\site-packages\\langchain_community\\utilities\\duckduckgo_search.py:63: RuntimeWarning: This package (`duckduckgo_search`) has been renamed to `ddgs`! Use `pip install ddgs` instead.\n",
      "  with DDGS() as ddgs:\n"
     ]
    },
    {
     "name": "stdout",
     "output_type": "stream",
     "text": [
      "\u001b[36;1m\u001b[1;3m阶段二，1707年，Kingdom of England（包括威尔士）再与Kingdom of Scotland合并，成立Kingdom of Great Britain（大不列颠王国）。 阶段三，1801年，英爱合并，这次国名改 … Britain: 不列颠岛。英格兰，苏格兰，威尔士所在的岛，在口语中与Great Britain 通用。 Great Britain：大不列颠。是英格兰，苏格兰，威尔士作为一个整体的称呼，正式场合使用。有时也 … 其实，英国和英格兰还真的差很远。 首先，“英国”这个汉语翻译确实是从ENGLAND来的，但现在“英国”并不代表英格兰，英国的全名，相信很多人都知道，是“大不列颠及北爱尔兰联合王 … Mar 13, 2025 · 不是废除NHS体系，是废除NHS England这家管理机构, 将英格兰的NHS重新收归健康与社会保障部（DHSC，以下简称健保部）管辖，相当于重新回到2012年之前的架构。而 … COI/Declaration of Interest forms from all the authors of an article is required for every submiss…\u001b[0m\u001b[32;1m\u001b[1;3mQuestion: give a detailed preview for the current test matches between england and india happening in lords stadium  \n",
      "Thought: I attempted a search, but the results did not provide relevant information about the current test match between England and India at Lord's. I need to find the latest cricket updates from a reliable sports news source.  \n",
      "Action: duckduckgo_search  \n",
      "Action Input: current England vs India test match at Lord's 2023 update  \u001b[0m"
     ]
    },
    {
     "name": "stderr",
     "output_type": "stream",
     "text": [
      "c:\\Users\\Pc\\Desktop\\Generative AI\\myenv\\Lib\\site-packages\\langchain_community\\utilities\\duckduckgo_search.py:63: RuntimeWarning: This package (`duckduckgo_search`) has been renamed to `ddgs`! Use `pip install ddgs` instead.\n",
      "  with DDGS() as ddgs:\n"
     ]
    },
    {
     "name": "stdout",
     "output_type": "stream",
     "text": [
      "\u001b[36;1m\u001b[1;3m2 days ago · Rahul set the rhythm of this Test match. He was partly the cause of England's frustration. He was the source of India's calm. He secured their eighth century on tour, a new …Follow our live cricket update for in-depth match coverage and exciting highlights from England vs India 3rd Test at London on ESPNcricinfo. 22 hours ago · India vs England Live Cricket Score, 3rd Test Day 5 (India National Cricket Team vs England National Cricket Team): India lost four wickets late into the fourth day’s play … 1 day ago · Score, text commentary, video highlights and analysis from Lords as England face India in the third Test; watch live on Sky Sports Cricket or stream without a contract; five-match series level at ... 1 day ago · Ben Stokes splattered the stumps with the last ball of a fantastic day of Test cricket to give England belief they can snatch victory on what promises to be a pulsating People’s … 3 days ago · England vs India, 3rd Test Day 2 LIVE Updates: The second day of the third Test between England and India at Lord's gets underway on Friday, with senior batter Joe Root and …\u001b[0m\u001b[32;1m\u001b[1;3mFinal Answer: The ongoing test match series between England and India at Lord's Stadium is currently in progress, with the third Test match being closely contested. Recent updates indicate that the match is at a critical stage, with both teams competing intensely. India’s key batter has scored an India’s eighth century on this tour, providing stability for their innings. As of the latest reports, India lost four wickets late on the fourth day, and the match has been described as pulsating and closely fought. England, led by captain Ben Stokes, is determined to turn the game in their favor, with hopes to mount a comeback. The series is currently level, and both teams are aiming for a victory that could significantly influence the series outcome. For detailed live scores, highlights, and commentary, you can check ESPNcricinfo or Sky Sports Cricket.\u001b[0m\n",
      "\n",
      "\u001b[1m> Finished chain.\u001b[0m\n",
      "{'input': 'give a detailed preview for the current test matches between england and india happening in lords stadium', 'output': \"The ongoing test match series between England and India at Lord's Stadium is currently in progress, with the third Test match being closely contested. Recent updates indicate that the match is at a critical stage, with both teams competing intensely. India’s key batter has scored an India’s eighth century on this tour, providing stability for their innings. As of the latest reports, India lost four wickets late on the fourth day, and the match has been described as pulsating and closely fought. England, led by captain Ben Stokes, is determined to turn the game in their favor, with hopes to mount a comeback. The series is currently level, and both teams are aiming for a victory that could significantly influence the series outcome. For detailed live scores, highlights, and commentary, you can check ESPNcricinfo or Sky Sports Cricket.\"}\n"
     ]
    }
   ],
   "source": [
    "#Step 5: Invoke\n",
    "response = agent_executor.invoke({\"input\": \"give a detailed preview for the current test matches between england and india happening in lords stadium\"})\n",
    "print(response)"
   ]
  },
  {
   "cell_type": "code",
   "execution_count": 14,
   "id": "5c33981d",
   "metadata": {},
   "outputs": [
    {
     "data": {
      "text/plain": [
       "\"The ongoing test match series between England and India at Lord's Stadium is currently in progress, with the third Test match being closely contested. Recent updates indicate that the match is at a critical stage, with both teams competing intensely. India’s key batter has scored an India’s eighth century on this tour, providing stability for their innings. As of the latest reports, India lost four wickets late on the fourth day, and the match has been described as pulsating and closely fought. England, led by captain Ben Stokes, is determined to turn the game in their favor, with hopes to mount a comeback. The series is currently level, and both teams are aiming for a victory that could significantly influence the series outcome. For detailed live scores, highlights, and commentary, you can check ESPNcricinfo or Sky Sports Cricket.\""
      ]
     },
     "execution_count": 14,
     "metadata": {},
     "output_type": "execute_result"
    }
   ],
   "source": [
    "response['output']"
   ]
  },
  {
   "cell_type": "code",
   "execution_count": null,
   "id": "1ef9d08b",
   "metadata": {},
   "outputs": [],
   "source": []
  }
 ],
 "metadata": {
  "kernelspec": {
   "display_name": "myenv",
   "language": "python",
   "name": "python3"
  },
  "language_info": {
   "codemirror_mode": {
    "name": "ipython",
    "version": 3
   },
   "file_extension": ".py",
   "mimetype": "text/x-python",
   "name": "python",
   "nbconvert_exporter": "python",
   "pygments_lexer": "ipython3",
   "version": "3.11.9"
  }
 },
 "nbformat": 4,
 "nbformat_minor": 5
}
